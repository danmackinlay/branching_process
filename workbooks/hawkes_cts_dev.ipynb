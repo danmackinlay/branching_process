{
 "cells": [
  {
   "cell_type": "code",
   "execution_count": 1,
   "metadata": {
    "collapsed": true,
    "deletable": true,
    "editable": true
   },
   "outputs": [],
   "source": [
    "## web graphics\n",
    "%matplotlib inline\n",
    "## interactive graphics\n",
    "#%matplotlib notebook\n",
    "%config InlineBackend.figure_format = 'png' "
   ]
  },
  {
   "cell_type": "code",
   "execution_count": 2,
   "metadata": {
    "collapsed": true,
    "deletable": true,
    "editable": true
   },
   "outputs": [],
   "source": [
    "import numpy as np\n",
    "import warnings\n",
    "from scipy.optimize import minimize\n",
    "from scipy import stats\n",
    "# plotting requirements\n",
    "import matplotlib as mpl\n",
    "import matplotlib.pyplot as plt\n",
    "import seaborn as sns\n",
    "from branching_process.util import plots"
   ]
  },
  {
   "cell_type": "code",
   "execution_count": 3,
   "metadata": {
    "collapsed": false,
    "deletable": true,
    "editable": true
   },
   "outputs": [
    {
     "ename": "ImportError",
     "evalue": "No module named 'branching_process.cts.fit'",
     "output_type": "error",
     "traceback": [
      "\u001b[0;31m---------------------------------------------------------------------------\u001b[0m",
      "\u001b[0;31mImportError\u001b[0m                               Traceback (most recent call last)",
      "\u001b[0;32m<ipython-input-3-ae77f5c9768f>\u001b[0m in \u001b[0;36m<module>\u001b[0;34m()\u001b[0m\n\u001b[1;32m      2\u001b[0m \u001b[0;32mimport\u001b[0m \u001b[0mbranching_process\u001b[0m\u001b[0;34m\u001b[0m\u001b[0m\n\u001b[1;32m      3\u001b[0m \u001b[0mbranching_process\u001b[0m \u001b[0;34m=\u001b[0m \u001b[0mreload\u001b[0m\u001b[0;34m(\u001b[0m\u001b[0mbranching_process\u001b[0m\u001b[0;34m)\u001b[0m\u001b[0;34m\u001b[0m\u001b[0m\n\u001b[0;32m----> 4\u001b[0;31m \u001b[0;32mfrom\u001b[0m \u001b[0mbranching_process\u001b[0m \u001b[0;32mimport\u001b[0m \u001b[0mcts\u001b[0m\u001b[0;34m\u001b[0m\u001b[0m\n\u001b[0m\u001b[1;32m      5\u001b[0m \u001b[0mcts\u001b[0m \u001b[0;34m=\u001b[0m \u001b[0mreload\u001b[0m\u001b[0;34m(\u001b[0m\u001b[0mcts\u001b[0m\u001b[0;34m)\u001b[0m\u001b[0;34m\u001b[0m\u001b[0m\n\u001b[1;32m      6\u001b[0m \u001b[0;32mfrom\u001b[0m \u001b[0mbranching_process\u001b[0m\u001b[0;34m.\u001b[0m\u001b[0mcts\u001b[0m \u001b[0;32mimport\u001b[0m \u001b[0msim\u001b[0m\u001b[0;34m,\u001b[0m \u001b[0minfluence\u001b[0m\u001b[0;34m,\u001b[0m \u001b[0mmodel\u001b[0m\u001b[0;34m\u001b[0m\u001b[0m\n",
      "\u001b[0;32m/Users/dan/Source/branching_process/branching_process/cts/__init__.py\u001b[0m in \u001b[0;36m<module>\u001b[0;34m()\u001b[0m\n\u001b[1;32m      1\u001b[0m \u001b[0;32mfrom\u001b[0m \u001b[0m__future__\u001b[0m \u001b[0;32mimport\u001b[0m \u001b[0mabsolute_import\u001b[0m\u001b[0;34m\u001b[0m\u001b[0m\n\u001b[1;32m      2\u001b[0m \u001b[0;34m\u001b[0m\u001b[0m\n\u001b[0;32m----> 3\u001b[0;31m \u001b[0;32mfrom\u001b[0m \u001b[0;34m.\u001b[0m\u001b[0mfit\u001b[0m \u001b[0;32mimport\u001b[0m \u001b[0mContinuousExact\u001b[0m\u001b[0;34m\u001b[0m\u001b[0m\n\u001b[0m",
      "\u001b[0;31mImportError\u001b[0m: No module named 'branching_process.cts.fit'"
     ]
    }
   ],
   "source": [
    "from importlib import reload\n",
    "import branching_process\n",
    "branching_process = reload(branching_process)\n",
    "from branching_process import cts\n",
    "cts = reload(cts)\n",
    "from branching_process.cts import sim, influence, model\n",
    "sim = reload(sim)\n",
    "influence = reload(influence)\n",
    "model = reload(model)\n"
   ]
  },
  {
   "cell_type": "code",
   "execution_count": null,
   "metadata": {
    "collapsed": false,
    "deletable": true,
    "editable": true,
    "scrolled": false
   },
   "outputs": [],
   "source": [
    "%pdb off\n",
    "influence = reload(influence)\n",
    "exp_phi = influence.ExpKernel()\n",
    "causal_phi = influence.MaxwellKernel()\n",
    "evalpts = np.linspace(0, 10, 100)\n",
    "tau=0.5\n",
    "\n",
    "plt.figure();\n",
    "plt.plot(evalpts, exp_phi(evalpts, tau=tau).ravel());\n",
    "plt.plot(evalpts, exp_phi.majorant(evalpts, tau=tau).ravel());\n",
    "plt.plot(evalpts, exp_phi.integrate(evalpts, tau=tau).ravel());\n",
    "\n",
    "plt.figure();\n",
    "plt.plot(evalpts, causal_phi(evalpts, tau=tau).ravel());\n",
    "plt.plot(evalpts, causal_phi.majorant(evalpts, tau=tau).ravel());\n",
    "plt.plot(evalpts, causal_phi.integrate(evalpts, tau=tau).ravel());\n"
   ]
  },
  {
   "cell_type": "code",
   "execution_count": null,
   "metadata": {
    "collapsed": false,
    "deletable": true,
    "editable": true
   },
   "outputs": [],
   "source": [
    "influence = reload(influence)\n",
    "exp_phi = influence.ExpKernel(n_bases=3)\n",
    "causal_phi = influence.MaxwellKernel(n_bases=3)\n",
    "evalpts = np.linspace(0, 10, 100)\n",
    "tau=np.array([1,2,3])\n",
    "\n",
    "plt.figure();\n",
    "plt.plot(evalpts, exp_phi(evalpts, tau=tau));\n",
    "plt.plot(evalpts, exp_phi.majorant(evalpts, tau=tau));\n",
    "plt.plot(evalpts, exp_phi.integrate(evalpts, tau=tau));\n",
    "\n",
    "plt.figure();\n",
    "plt.plot(evalpts, exp_phi.call_each(evalpts, tau=tau));\n",
    "plt.plot(evalpts, exp_phi.majorant_each(evalpts, tau=tau));\n",
    "plt.plot(evalpts, exp_phi.integrate_each(evalpts, tau=tau));\n",
    "\n",
    "plt.figure();\n",
    "plt.plot(evalpts, causal_phi(evalpts, tau=tau));\n",
    "plt.plot(evalpts, causal_phi.majorant(evalpts, tau=tau));\n",
    "plt.plot(evalpts, causal_phi.integrate(evalpts, tau=tau));\n",
    "\n",
    "plt.figure();\n",
    "plt.plot(evalpts, causal_phi.call_each(evalpts, tau=tau));\n",
    "plt.plot(evalpts, causal_phi.majorant_each(evalpts, tau=tau));\n",
    "plt.plot(evalpts, causal_phi.integrate_each(evalpts, tau=tau));\n"
   ]
  },
  {
   "cell_type": "code",
   "execution_count": null,
   "metadata": {
    "collapsed": false,
    "deletable": true,
    "editable": true,
    "scrolled": false
   },
   "outputs": [],
   "source": [
    "import numpy.random\n",
    "numpy.random.seed(1237)\n",
    "\n",
    "fixed_exp_phi = influence.ExpKernel(tau=5)\n",
    "\n",
    "param_exp = dict(\n",
    "    phi=fixed_exp_phi,\n",
    "    mu=5.0,\n",
    "    eta=0.5,\n",
    "    start=0.0,\n",
    "    end=200)\n",
    "\n",
    "sim = reload(sim)\n",
    "timestamps = np.sort(sim.sim_hawkes(**param_exp));\n",
    "evalpts = np.linspace(param_exp['start'], param_exp['end'], 5000)\n",
    "\n",
    "true_intensity = model.intensity_hawkes(timestamps, eval_timestamps=evalpts, **param_exp)\n",
    "plt.plot(evalpts, true_intensity);"
   ]
  },
  {
   "cell_type": "code",
   "execution_count": null,
   "metadata": {
    "collapsed": false,
    "deletable": true,
    "editable": true
   },
   "outputs": [],
   "source": [
    "import numpy.random\n",
    "numpy.random.seed(1237)\n",
    "causal_phi = influence.MaxwellKernel(tau=5)\n",
    "\n",
    "param_causal = dict(\n",
    "    phi=causal_phi,\n",
    "    mu=5.0,\n",
    "    eta=0.5,\n",
    "    start=0.0,\n",
    "    end=200)\n",
    "\n",
    "sim = reload(sim)\n",
    "timestamps = np.sort(sim.sim_hawkes(**param_causal));\n",
    "evalpts = np.linspace(param_causal['start'], param_causal['end'], 5000)\n",
    "\n",
    "true_intensity = model.intensity_hawkes(timestamps, eval_timestamps=evalpts, **param_causal)\n",
    "plt.plot(evalpts, true_intensity);"
   ]
  },
  {
   "cell_type": "code",
   "execution_count": null,
   "metadata": {
    "collapsed": false,
    "deletable": true,
    "editable": true
   },
   "outputs": [],
   "source": [
    "influence = reload(influence)\n",
    "evalpts = np.linspace(0, 10, 1000)\n",
    "numpy.random.seed(1237)\n",
    "mu = 3\n",
    "n_bases = 10\n",
    "kappa = np.random.uniform(-1,1, size=n_bases)**3*3\n",
    "\n",
    "step_phi = influence.StepLinearKernel(n_bases=n_bases, end=10, mu=mu)\n",
    "\n",
    "plt.figure();\n",
    "plt.plot(evalpts, step_phi(evalpts, kappa=kappa));\n",
    "plt.plot(evalpts, step_phi.integrate(evalpts, kappa=kappa));\n",
    "\n"
   ]
  },
  {
   "cell_type": "code",
   "execution_count": 23,
   "metadata": {
    "collapsed": false,
    "deletable": true,
    "editable": true
   },
   "outputs": [
    {
     "name": "stdout",
     "output_type": "stream",
     "text": [
      "Automatic pdb calling has been turned ON\n"
     ]
    },
    {
     "data": {
      "text/plain": [
       "array([-11339.01031912])"
      ]
     },
     "execution_count": 23,
     "metadata": {},
     "output_type": "execute_result"
    }
   ],
   "source": [
    "%pdb on\n",
    "from importlib import reload\n",
    "import branching_process\n",
    "branching_process = reload(branching_process)\n",
    "from branching_process import cts\n",
    "cts = reload(cts)\n",
    "from branching_process.cts import sim, influence, model\n",
    "sim = reload(sim)\n",
    "influence = reload(influence)\n",
    "model = reload(model)\n",
    "\n",
    "\n",
    "fixed_exp_phi = influence.ExpKernel(tau=5, kappa=0.5)\n",
    "\n",
    "param_exp = dict(\n",
    "    phi=fixed_exp_phi,\n",
    "    mu=5.0,\n",
    "    eta=1.0,\n",
    "    start=0.0,\n",
    "    end=200)\n",
    "\n",
    "timestamps = sim.sim_hawkes(**param_exp);\n",
    "\n",
    "hawkes = model.ContinuousExact(\n",
    "    phi=influence.MaxwellKernel(n_bases=5, tau=np.array([1,2,3,4,5])),\n",
    "    debug=True\n",
    ")\n",
    "hawkes.negloglik(timestamps, timestamps, mu=500.5, end=200.0, kappa=np.array([10.5, 0.3, 0, 0, 0,]))\n"
   ]
  },
  {
   "cell_type": "code",
   "execution_count": null,
   "metadata": {
    "collapsed": true,
    "deletable": true,
    "editable": true
   },
   "outputs": [],
   "source": [
    "\n",
    "fit = hawkes.fit(\n",
    "    timestamps,\n",
    "    fit_omega=False,\n",
    "    fit_tau=False,\n",
    ")\n",
    "print(fit.param)"
   ]
  }
 ],
 "metadata": {
  "kernelspec": {
   "display_name": "Python 3",
   "language": "python",
   "name": "python3"
  },
  "language_info": {
   "codemirror_mode": {
    "name": "ipython",
    "version": 3
   },
   "file_extension": ".py",
   "mimetype": "text/x-python",
   "name": "python",
   "nbconvert_exporter": "python",
   "pygments_lexer": "ipython3",
   "version": "3.5.3"
  }
 },
 "nbformat": 4,
 "nbformat_minor": 0
}
