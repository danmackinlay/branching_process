{
 "cells": [
  {
   "cell_type": "code",
   "execution_count": 1,
   "metadata": {
    "collapsed": true,
    "deletable": true,
    "editable": true
   },
   "outputs": [],
   "source": [
    "## web graphics\n",
    "%matplotlib inline\n",
    "## interactive graphics\n",
    "#%matplotlib notebook\n",
    "%config InlineBackend.figure_format = 'png' "
   ]
  },
  {
   "cell_type": "code",
   "execution_count": 1,
   "metadata": {
    "collapsed": true,
    "deletable": true,
    "editable": true
   },
   "outputs": [],
   "source": [
    "import numpy as np\n",
    "import warnings\n",
    "from scipy.optimize import minimize\n",
    "from scipy import stats\n",
    "# plotting requirements\n",
    "import matplotlib as mpl\n",
    "import matplotlib.pyplot as plt\n",
    "import seaborn as sns\n",
    "from branching_process.util import plots"
   ]
  },
  {
   "cell_type": "code",
   "execution_count": 2,
   "metadata": {
    "collapsed": false,
    "deletable": true,
    "editable": true
   },
   "outputs": [],
   "source": [
    "from importlib import reload\n",
    "import branching_process\n",
    "branching_process = reload(branching_process)\n",
    "from branching_process import cts\n",
    "cts = reload(cts)\n",
    "from branching_process.cts import sim, influence, model\n",
    "sim = reload(sim)\n",
    "influence = reload(influence)\n",
    "model = reload(model)\n"
   ]
  },
  {
   "cell_type": "code",
   "execution_count": 3,
   "metadata": {
    "collapsed": false,
    "deletable": true,
    "editable": true,
    "scrolled": false
   },
   "outputs": [
    {
     "name": "stdout",
     "output_type": "stream",
     "text": [
      "Automatic pdb calling has been turned OFF\n"
     ]
    }
   ],
   "source": [
    "%pdb off\n",
    "influence = reload(influence)\n",
    "exp_phi = influence.ExpKernel()\n",
    "causal_phi = influence.MaxwellKernel()\n",
    "eval_ts = np.linspace(0, 10, 100)\n",
    "tau=0.5\n",
    "\n",
    "plt.figure();\n",
    "plt.plot(eval_ts, exp_phi(eval_ts, tau=tau).ravel());\n",
    "plt.plot(eval_ts, exp_phi.majorant(eval_ts, tau=tau).ravel());\n",
    "plt.plot(eval_ts, exp_phi.integrate(eval_ts, tau=tau).ravel());\n",
    "\n",
    "plt.figure();\n",
    "plt.plot(eval_ts, causal_phi(eval_ts, tau=tau).ravel());\n",
    "plt.plot(eval_ts, causal_phi.majorant(eval_ts, tau=tau).ravel());\n",
    "plt.plot(eval_ts, causal_phi.integrate(eval_ts, tau=tau).ravel());\n"
   ]
  },
  {
   "cell_type": "code",
   "execution_count": 4,
   "metadata": {
    "collapsed": false,
    "deletable": true,
    "editable": true
   },
   "outputs": [],
   "source": [
    "influence = reload(influence)\n",
    "exp_phi = influence.ExpKernel(n_bases=3)\n",
    "causal_phi = influence.MaxwellKernel(n_bases=3)\n",
    "eval_ts = np.linspace(0, 10, 100)\n",
    "tau=np.array([1,2,3])\n",
    "\n",
    "plt.figure();\n",
    "plt.plot(eval_ts, exp_phi(eval_ts, tau=tau));\n",
    "plt.plot(eval_ts, exp_phi.majorant(eval_ts, tau=tau));\n",
    "plt.plot(eval_ts, exp_phi.integrate(eval_ts, tau=tau));\n",
    "\n",
    "plt.figure();\n",
    "plt.plot(eval_ts, exp_phi.call_each(eval_ts, tau=tau));\n",
    "plt.plot(eval_ts, exp_phi.majorant_each(eval_ts, tau=tau));\n",
    "plt.plot(eval_ts, exp_phi.integrate_each(eval_ts, tau=tau));\n",
    "\n",
    "plt.figure();\n",
    "plt.plot(eval_ts, causal_phi(eval_ts, tau=tau));\n",
    "plt.plot(eval_ts, causal_phi.majorant(eval_ts, tau=tau));\n",
    "plt.plot(eval_ts, causal_phi.integrate(eval_ts, tau=tau));\n",
    "\n",
    "plt.figure();\n",
    "plt.plot(eval_ts, causal_phi.call_each(eval_ts, tau=tau));\n",
    "plt.plot(eval_ts, causal_phi.majorant_each(eval_ts, tau=tau));\n",
    "plt.plot(eval_ts, causal_phi.integrate_each(eval_ts, tau=tau));\n"
   ]
  },
  {
   "cell_type": "code",
   "execution_count": 5,
   "metadata": {
    "collapsed": false,
    "deletable": true,
    "editable": true,
    "scrolled": false
   },
   "outputs": [],
   "source": [
    "import numpy.random\n",
    "\n",
    "\n",
    "sim = reload(sim)\n",
    "influence = reload(influence)\n",
    "model = reload(model)\n",
    "\n",
    "numpy.random.seed(1237)\n",
    "\n",
    "fixed_exp_phi = influence.ExpKernel(tau=5)\n",
    "\n",
    "param_exp = dict(\n",
    "    phi_kernel=fixed_exp_phi,\n",
    "    mu=5.0,\n",
    "    t_start=0.0,\n",
    "    t_end=200)\n",
    "\n",
    "ts = sim.sim_hawkes(sort=True, **param_exp)\n",
    "eval_ts = np.linspace(param_exp['t_start'], param_exp['t_end'], 5000)\n",
    "\n",
    "true_intensity = model.lam_hawkes(ts, eval_ts=eval_ts, **param_exp)\n",
    "plt.plot(eval_ts, true_intensity);"
   ]
  },
  {
   "cell_type": "code",
   "execution_count": 6,
   "metadata": {
    "collapsed": false,
    "deletable": true,
    "editable": true
   },
   "outputs": [],
   "source": [
    "import numpy.random\n",
    "numpy.random.seed(1237)\n",
    "causal_phi = influence.MaxwellKernel(tau=5)\n",
    "\n",
    "param_causal = dict(\n",
    "    phi_kernel=causal_phi,\n",
    "    mu=5.0,\n",
    "    t_start=0.0,\n",
    "    t_end=200)\n",
    "\n",
    "sim = reload(sim)\n",
    "ts = np.sort(sim.sim_hawkes(**param_causal));\n",
    "eval_ts = np.linspace(param_causal['t_start'], param_causal['t_end'], 5000)\n",
    "\n",
    "true_intensity = model.lam_hawkes(ts, eval_ts=eval_ts, **param_causal)\n",
    "plt.plot(eval_ts, true_intensity);"
   ]
  },
  {
   "cell_type": "code",
   "execution_count": 7,
   "metadata": {
    "collapsed": false,
    "deletable": true,
    "editable": true
   },
   "outputs": [],
   "source": [
    "influence = reload(influence)\n",
    "eval_ts = np.linspace(0, 10, 1000)\n",
    "numpy.random.seed(1237)\n",
    "mu = 3\n",
    "n_bases = 10\n",
    "kappa = np.random.uniform(-1,1, size=n_bases)**3*3\n",
    "\n",
    "step_phi = influence.LinearStepKernel(n_bases=n_bases, t_end=10, mu=mu)\n",
    "\n",
    "plt.figure();\n",
    "plt.plot(eval_ts, step_phi(eval_ts, kappa=kappa));\n",
    "plt.plot(eval_ts, step_phi.integrate(eval_ts, kappa=kappa));\n",
    "\n"
   ]
  },
  {
   "cell_type": "code",
   "execution_count": 8,
   "metadata": {
    "collapsed": false,
    "deletable": true,
    "editable": true
   },
   "outputs": [
    {
     "name": "stdout",
     "output_type": "stream",
     "text": [
      "Automatic pdb calling has been turned ON\n",
      "[ 2648.89717595] [ 2631.47610141] [-3332.21464918]\n"
     ]
    }
   ],
   "source": [
    "%pdb on\n",
    "from importlib import reload\n",
    "import branching_process\n",
    "branching_process = reload(branching_process)\n",
    "from branching_process import cts\n",
    "cts = reload(cts)\n",
    "from branching_process.cts import sim, influence, model\n",
    "sim = reload(sim)\n",
    "influence = reload(influence)\n",
    "model = reload(model)\n",
    "\n",
    "fixed_exp_phi = influence.ExpKernel(tau=5, kappa=0.5)\n",
    "approx_kernel = influence.MaxwellKernel(n_bases=5, tau=np.array([1,2,3,4,5]))\n",
    "\n",
    "param_exp = dict(\n",
    "    phi_kernel=fixed_exp_phi,\n",
    "    mu=5.0,\n",
    "    t_start=0.0,\n",
    "    t_end=200)\n",
    "\n",
    "ts = sim.sim_hawkes(**param_exp);\n",
    "\n",
    "print(\n",
    "    model.loglik(ts=ts, mu=0.5, phi_kernel=approx_kernel, phi_kwargs=dict(kappa=np.array([0.5, 0.3, 0, 0, 0,]))),\n",
    "    model.loglik(ts=ts, mu=5, phi_kernel=approx_kernel, phi_kwargs=dict(kappa=np.array([0.5, 0.3, 0, 0, 0,]))),\n",
    "    model.loglik(ts=ts, mu=50, phi_kernel=approx_kernel, phi_kwargs=dict(kappa=np.array([0.5, 0.3, 0, 0, 0,]))),\n",
    ")\n"
   ]
  },
  {
   "cell_type": "code",
   "execution_count": null,
   "metadata": {
    "collapsed": false,
    "deletable": true,
    "editable": true,
    "scrolled": false
   },
   "outputs": [
    {
     "name": "stdout",
     "output_type": "stream",
     "text": [
      "0 0 param [ 1.  0.  0.  0.  0.  0.] grad [ -1835.03841788 -19058.99549653 -18979.68279621 -18800.82814944\n",
      " -18639.05387288 -18480.54249998]\n",
      "1 0 param [ 1.  0.  0.  0.  0.  0.] grad [ -1835.03841788 -19058.99549653 -18979.68279621 -18800.82814944\n",
      " -18639.05387288 -18480.54249998]\n",
      "2 0 param [   550426.65137702  59375610.16526908  58882463.36123686\n",
      "  57777936.90407206  56787898.58049493  55826127.44069597] grad [  199.96157798  2012.9425957   1996.31091665  1979.48553685  1962.11137222\n",
      "  1944.61234339]\n",
      "3 0 param [   512361.0494255   55396542.009886    54952798.21758687\n",
      "  53918085.97600593  52994851.34286576  52098887.77816354] grad [  199.96157768  2012.94259518  1996.31091614  1979.48553635  1962.11137173\n",
      "  1944.6123429 ]\n",
      "4 0 param [   485173.3336279   52555209.91536503  52146825.23706152\n",
      "  51161944.23684677  50286414.3679902   49437448.74879731] grad [  199.96157743  2012.94259476  1996.31091573  1979.48553594  1962.11137133\n",
      "  1944.6123425 ]\n",
      "5 0 param [   464452.32394858  50390242.07295921  50008867.7740354   49061938.45488792\n",
      "  48222759.37501938  47409609.71433102] grad [  199.96157722  2012.9425944   1996.31091538  1979.4855356   1962.11137099\n",
      "  1944.61234217]\n",
      "6 0 param [   447994.85664068  48671206.86777835  48311338.72404107  47394528.7489425\n",
      "  46584214.69137772  45799508.62503439] grad [  199.96157705  2012.9425941   1996.31091509  1979.48553531  1962.1113707\n",
      "  1944.61234189]\n"
     ]
    }
   ],
   "source": [
    "from branching_process import cts\n",
    "cts = reload(cts)\n",
    "from branching_process.cts import sim, influence, model, fit\n",
    "sim = reload(sim)\n",
    "influence = reload(influence)\n",
    "model = reload(model)\n",
    "fit = reload(fit)\n",
    "\n",
    "hawkes = fit.ContinuousExact(\n",
    "     debug=True\n",
    ")\n",
    "fit = hawkes.fit(\n",
    "    ts,\n",
    "    phi_kernel=influence.MaxwellKernel(n_bases=5, tau=np.array([1,2,3,4,5])),\n",
    "    fit_omega=False,\n",
    "    fit_tau=False,\n",
    "    max_steps=50,\n",
    "    step_iter=20,\n",
    "    lr=1.0,\n",
    ")\n",
    "print(fit.param)"
   ]
  },
  {
   "cell_type": "code",
   "execution_count": null,
   "metadata": {
    "collapsed": false
   },
   "outputs": [],
   "source": [
    "fit\n"
   ]
  },
  {
   "cell_type": "code",
   "execution_count": null,
   "metadata": {
    "collapsed": true
   },
   "outputs": [],
   "source": []
  }
 ],
 "metadata": {
  "kernelspec": {
   "display_name": "Python 3",
   "language": "python",
   "name": "python3"
  },
  "language_info": {
   "codemirror_mode": {
    "name": "ipython",
    "version": 3
   },
   "file_extension": ".py",
   "mimetype": "text/x-python",
   "name": "python",
   "nbconvert_exporter": "python",
   "pygments_lexer": "ipython3",
   "version": "3.5.3"
  }
 },
 "nbformat": 4,
 "nbformat_minor": 0
}
