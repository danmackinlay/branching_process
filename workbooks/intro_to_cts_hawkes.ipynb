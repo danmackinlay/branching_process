{
 "cells": [
  {
   "cell_type": "markdown",
   "metadata": {
    "deletable": true,
    "editable": true
   },
   "source": [
    "# Classic Poisson (Hawkes) branching process"
   ]
  },
  {
   "cell_type": "code",
   "execution_count": 1,
   "metadata": {
    "collapsed": true,
    "deletable": true,
    "editable": true
   },
   "outputs": [],
   "source": [
    "## web graphics\n",
    "%matplotlib inline\n",
    "## interactive graphics\n",
    "#%matplotlib notebook\n",
    "## SVG graphics\n",
    "%config InlineBackend.figure_format = 'svg' "
   ]
  },
  {
   "cell_type": "code",
   "execution_count": 2,
   "metadata": {
    "collapsed": true,
    "deletable": true,
    "editable": true
   },
   "outputs": [],
   "source": [
    "# plotting requirements\n",
    "import matplotlib as mpl\n",
    "import matplotlib.pyplot as plt\n",
    "import seaborn as sns\n",
    "import numpy as np\n",
    "import scipy as sp\n",
    "from importlib import reload"
   ]
  },
  {
   "cell_type": "markdown",
   "metadata": {
    "collapsed": true,
    "deletable": true,
    "editable": true
   },
   "source": [
    "## Parametric Kernels\n",
    "\n",
    "## Nonparametric mixture kernels\n",
    "\n",
    "Linear mixture basis $$\\Phi(t)=\\sum_{k=0}^\\infty a_k \\phi(t;k)$$\n",
    "\n",
    "The Ogata basis has a scaling factor $c$ which determines how far our basis stretches and how coarse it is at short time scales.\n",
    "\n",
    "### Ogata basis\n",
    "\n",
    "Ogata's \"Laguerre-type\" basis, \n",
    "$$\\phi_\\text{Ogata}(t;k)=\\frac{t^k e^{-ct}}{c^{-1-k}\\Gamma(1+k)}$$, with\n",
    "\n",
    "modes $t=k/c$ and\n",
    "\n",
    "location at $t=\\frac{1+k}{c}$, and\n",
    "\n",
    "scale $\\frac{\\sqrt{1+k}}{c}$.\n",
    "\n",
    "Close to a $\\chi^2$ distribution, though more convenient.\n",
    "\n",
    "### $\\chi$ basis\n",
    "\n",
    "$$\\phi_\\chi(t;k)=\\frac{2^{1-k/2}x^{k-1}e^{-x^2/2}}{\\Gamma(k/2)}$$\n",
    "\n",
    "mean delay $\\mu=\\sqrt{2}\\,\\frac{\\Gamma((k+1)/2)}{\\Gamma(k/2)}$\n",
    "\n",
    "mode $\\sqrt{k-1}$\n",
    "\n",
    "scale $\\sigma=\\sqrt{k-\\mu^2}$\n",
    "\n",
    "### Resolvable Ogata basis\n",
    "\n",
    "The Ogata basis as given cannot be easily resolved, which is especially bad if we are trying to regularise;\n",
    "we need separation between components. We take\n",
    "\n",
    "$$\\phi_\\text{R}(t;k)=\\phi_\\text{Ogata}(t;k^2)$$\n",
    "\n",
    "giving\n",
    "\n",
    "modes $t=k^2/c$ and\n",
    "\n",
    "location at $t=\\frac{1+k^2}{c}$, and\n",
    "\n",
    "scale $\\frac{\\sqrt{1+k^2}}{c}$.\n",
    "\n",
    "OTOH, this can no longer resolve \"lumpy\" partial autocorrelation, e.g. a spike in the importance of 10 days ago as opp 9 days ago.\n"
   ]
  },
  {
   "cell_type": "code",
   "execution_count": null,
   "metadata": {
    "collapsed": true,
    "deletable": true,
    "editable": true
   },
   "outputs": [],
   "source": []
  }
 ],
 "metadata": {
  "kernelspec": {
   "display_name": "Python 3",
   "language": "python",
   "name": "python3"
  },
  "language_info": {
   "codemirror_mode": {
    "name": "ipython",
    "version": 3
   },
   "file_extension": ".py",
   "mimetype": "text/x-python",
   "name": "python",
   "nbconvert_exporter": "python",
   "pygments_lexer": "ipython3",
   "version": "3.5.3"
  }
 },
 "nbformat": 4,
 "nbformat_minor": 0
}
