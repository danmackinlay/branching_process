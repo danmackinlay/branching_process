{
 "cells": [
  {
   "cell_type": "markdown",
   "metadata": {},
   "source": [
    "## setup"
   ]
  },
  {
   "cell_type": "code",
   "execution_count": 1,
   "metadata": {
    "collapsed": false
   },
   "outputs": [],
   "source": [
    "import numpy as np\n",
    "from importlib import reload\n",
    "from scipy.stats import poisson, geom, expon\n",
    "import pandas as pd\n",
    "from src.util import saveobj, loadobj\n",
    "from src import influence_discrete"
   ]
  },
  {
   "cell_type": "code",
   "execution_count": 2,
   "metadata": {
    "collapsed": false
   },
   "outputs": [],
   "source": [
    "# plotting requirements\n",
    "import matplotlib as mpl\n",
    "import matplotlib.pyplot as plt\n",
    "import seaborn as sns\n",
    "%matplotlib inline\n",
    "#Large graphs by default\n",
    "mpl.rcParams['figure.figsize'] = (10.0, 8.0)"
   ]
  },
  {
   "cell_type": "code",
   "execution_count": 3,
   "metadata": {
    "collapsed": true
   },
   "outputs": [],
   "source": [
    "from sklearn.linear_model import LassoCV, LassoLarsCV, LassoLarsIC\n",
    "from sklearn import datasets\n",
    "\n",
    "diabetes = datasets.load_diabetes()\n",
    "X = diabetes.data\n",
    "y = diabetes.target\n"
   ]
  },
  {
   "cell_type": "code",
   "execution_count": 4,
   "metadata": {
    "collapsed": false
   },
   "outputs": [
    {
     "data": {
      "text/plain": [
       "array([   0.        , -197.75650114,  522.26484702,  297.15973689,\n",
       "       -103.94624877,    0.        , -223.92603334,    0.        ,\n",
       "        514.74948085,   54.76768063])"
      ]
     },
     "execution_count": 4,
     "metadata": {},
     "output_type": "execute_result"
    }
   ],
   "source": [
    "lm = LassoLarsIC()\n",
    "lm.fit(X,y)\n",
    "lm.coef_"
   ]
  },
  {
   "cell_type": "code",
   "execution_count": 11,
   "metadata": {
    "collapsed": false
   },
   "outputs": [
    {
     "data": {
      "text/plain": [
       "array([[   0.        , -197.75650114,  522.26484702,  297.15973689,\n",
       "        -103.94624877,    0.        , -223.92603334,    0.        ,\n",
       "         514.74948085,   54.76768063]])"
      ]
     },
     "execution_count": 11,
     "metadata": {},
     "output_type": "execute_result"
    }
   ],
   "source": [
    "from src import weighted_linear_model\n",
    "weighted_linear_model = reload(weighted_linear_model)\n",
    "\n",
    "wlm = weighted_linear_model.WeightedLassoLarsIC()\n",
    "wlm.fit(X,y)\n",
    "wlm.coef_"
   ]
  },
  {
   "cell_type": "code",
   "execution_count": 12,
   "metadata": {
    "collapsed": false
   },
   "outputs": [
    {
     "data": {
      "text/plain": [
       "array([[-219.80909215, -235.39955675,  574.57728491,  180.53137819,\n",
       "        -355.05988881,    0.        , -118.2812037 ,    0.        ,\n",
       "         583.5454464 ,   95.99412312]])"
      ]
     },
     "execution_count": 12,
     "metadata": {},
     "output_type": "execute_result"
    }
   ],
   "source": [
    "from src import weighted_linear_model\n",
    "weighted_linear_model = reload(weighted_linear_model)\n",
    "\n",
    "sw = np.ones(X.shape[0])\n",
    "sw[200:] = 0\n",
    "\n",
    "wlm = weighted_linear_model.WeightedLassoLarsIC()\n",
    "wlm.fit(X,y, sample_weight=sw)\n",
    "wlm.coef_"
   ]
  },
  {
   "cell_type": "code",
   "execution_count": 13,
   "metadata": {
    "collapsed": false
   },
   "outputs": [
    {
     "data": {
      "text/plain": [
       "array([[   0.        , -197.75650114,  522.26484702,  297.15973689,\n",
       "        -103.94624877,    0.        , -223.92603334,    0.        ,\n",
       "         514.74948085,   54.76768063]])"
      ]
     },
     "execution_count": 13,
     "metadata": {},
     "output_type": "execute_result"
    }
   ],
   "source": [
    "from src import weighted_linear_model\n",
    "weighted_linear_model = reload(weighted_linear_model)\n",
    "\n",
    "wlm = weighted_linear_model.WeightedLassoLarsIC()\n",
    "wlm.fit(X,y, penalty_weight='adaptive')\n",
    "wlm.coef_"
   ]
  },
  {
   "cell_type": "code",
   "execution_count": null,
   "metadata": {
    "collapsed": false
   },
   "outputs": [],
   "source": [
    "import pdb; pdb.pm()"
   ]
  },
  {
   "cell_type": "code",
   "execution_count": 10,
   "metadata": {
    "collapsed": false
   },
   "outputs": [
    {
     "data": {
      "text/plain": [
       "array([[ 0.76490672,  0.00482638,  0.0020421 ,  0.00331379,  0.01198092,\n",
       "         0.01411869,  0.00529997,  0.00864209,  0.0022532 ,  0.01152757]])"
      ]
     },
     "execution_count": 10,
     "metadata": {},
     "output_type": "execute_result"
    }
   ],
   "source": [
    "wlm.penalty_weight"
   ]
  },
  {
   "cell_type": "code",
   "execution_count": 18,
   "metadata": {
    "collapsed": false
   },
   "outputs": [
    {
     "data": {
      "text/plain": [
       "array([ 5, 11, 18])"
      ]
     },
     "execution_count": 18,
     "metadata": {},
     "output_type": "execute_result"
    }
   ],
   "source": [
    "np.cumsum([5,6,7])dd"
   ]
  },
  {
   "cell_type": "code",
   "execution_count": null,
   "metadata": {
    "collapsed": true
   },
   "outputs": [],
   "source": []
  }
 ],
 "metadata": {
  "kernelspec": {
   "display_name": "Python 3",
   "language": "python",
   "name": "python3"
  },
  "language_info": {
   "codemirror_mode": {
    "name": "ipython",
    "version": 3
   },
   "file_extension": ".py",
   "mimetype": "text/x-python",
   "name": "python",
   "nbconvert_exporter": "python",
   "pygments_lexer": "ipython3",
   "version": "3.4.3"
  }
 },
 "nbformat": 4,
 "nbformat_minor": 0
}
