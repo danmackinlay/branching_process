{
 "cells": [
  {
   "cell_type": "markdown",
   "metadata": {},
   "source": [
    "# Hawkes tail estimator\n",
    "\n",
    "## Tail estimator\n",
    "We estimator the tail of a Hawkes process influence kernel without estimating the head;\n",
    "\n",
    "This corresponds to *partial* autocovariance in a time series estimation.\n",
    "\n",
    "Suggestive of the possibility of casting this as a GLM. \n",
    "\n",
    "## multiple tail decomposition\n",
    "We use the additivity of the Hawkes process to produce a mixture model for the tail densities."
   ]
  },
  {
   "cell_type": "markdown",
   "metadata": {
    "collapsed": true
   },
   "source": [
    "## Extension: sliding bin size\n",
    "\n",
    "On the other hand, (hand-waving argument) this construction suggests another natural extension of the estimator:\n",
    "divide the time series into two bins and use these bins to estimate the weight of the influence kernel tail.\n",
    "We might hope that the head of the distribution will approach the GPD;\n",
    "but now we have an estimate of the influence of the tail only;\n",
    "We are now far from standard time series estimation however, and there will probably be a lot of work to bias-correct and/or show convergence of this estimator. And we need a fit-test and so on. How would you bootstrap this?"
   ]
  },
  {
   "cell_type": "code",
   "execution_count": null,
   "metadata": {
    "collapsed": true
   },
   "outputs": [],
   "source": []
  }
 ],
 "metadata": {
  "kernelspec": {
   "display_name": "Python 3",
   "language": "python",
   "name": "python3"
  },
  "language_info": {
   "codemirror_mode": {
    "name": "ipython",
    "version": 3
   },
   "file_extension": ".py",
   "mimetype": "text/x-python",
   "name": "python",
   "nbconvert_exporter": "python",
   "pygments_lexer": "ipython3",
   "version": "3.4.3"
  }
 },
 "nbformat": 4,
 "nbformat_minor": 0
}
